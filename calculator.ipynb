{
 "cells": [
  {
   "cell_type": "code",
   "execution_count": null,
   "metadata": {},
   "outputs": [],
   "source": [
    "print(\"Welcome to Luke's Super Duper Awsome Calculator\\n\")\n",
    "oporater = int(input(\"Now please chose your oporater\\n 1:Addition 2:Subtraction 3:Multiplaction 4:Divition\\n\"))\n",
    "if oporater < 1 or oporater > 4:\n",
    "    oporater = int(input(\" HEY I SAID NUMBERS TO 1-4!\"))\n",
    "number1 = float(input(\"Now please enter your first number\\n\"))\n",
    "number2 = float(input(\"Ok, now enter your second number\\n\"))\n",
    "result = 0\n",
    "number2_is_zero = False\n",
    "oporater2 = \"\"\n",
    "if oporater == 1:\n",
    "    result = number1 + number2;\n",
    "    oporater2 = \"+\";\n",
    "elif oporater == 2:\n",
    "    result = number1 - number2;\n",
    "    oporater2 = \"-\";\n",
    "elif oporater == 3:\n",
    "    result = number1 * number2;\n",
    "    oporater2 = \"*\";\n",
    "elif oporater == 4:\n",
    "    if number2 != 0:\n",
    "        result = number1 / number2;\n",
    "        oporater2 = \"/\";\n",
    "    else:\n",
    "        print(\"Sorry but dividing by zero is inposible noob\")\n",
    "        number2_is_zero = True\n",
    "else:\n",
    "   print(\"You have seleacted the wrong oporater.\") \n",
    "\n",
    "if number2_is_zero == False:\n",
    "    print(f\"Here is you anser:\\n {number1} {oporater2} {number2} = {result}\")"
   ]
  },
  {
   "cell_type": "code",
   "execution_count": null,
   "metadata": {},
   "outputs": [],
   "source": []
  },
  {
   "cell_type": "code",
   "execution_count": null,
   "metadata": {},
   "outputs": [],
   "source": []
  },
  {
   "cell_type": "code",
   "execution_count": 15,
   "metadata": {},
   "outputs": [
    {
     "name": "stdout",
     "output_type": "stream",
     "text": [
      "Welcome to a cool calculator\n",
      "\n"
     ]
    },
    {
     "name": "stdin",
     "output_type": "stream",
     "text": [
      "Which oporater would you like to chosese 1:Addition 2:Subtraction 3:Multiplaction 4:Divition\n",
      " 4\n",
      "Please enter your first number 1234\n",
      "Now, please enter your second number 0\n"
     ]
    },
    {
     "name": "stdout",
     "output_type": "stream",
     "text": [
      "sorry but dividing by zero in inposible noob\n"
     ]
    },
    {
     "name": "stdin",
     "output_type": "stream",
     "text": [
      "Now, please enter your second number 0\n"
     ]
    },
    {
     "name": "stdout",
     "output_type": "stream",
     "text": [
      "sorry but dividing by zero in inposible noob\n"
     ]
    },
    {
     "name": "stdin",
     "output_type": "stream",
     "text": [
      "Now, please enter your second number 4567\n"
     ]
    },
    {
     "name": "stdout",
     "output_type": "stream",
     "text": [
      "Here is your anser:\n",
      " 1234.0 / 4567.0 = 0.27019925552879354\n"
     ]
    }
   ],
   "source": [
    "print(\"Welcome to Luke's Super Duper Awsome Calculator\\n\")\n",
    "oporater = int(input(\"Which oporater would you like to chosese 1:Addition 2:Subtraction 3:Multiplaction 4:Divition\\n\"))\n",
    "while (oporater < 1 or oporater > 4):\n",
    "    oporater = int(input(\"HEY I SAID NUMBERS 1-4!\"))\n",
    "number1 = float(input(\"Please enter your first number\"))\n",
    "number2 = float(input(\"Now, please enter your second number\"))\n",
    "result = 0\n",
    "number2_is_zero = False\n",
    "if oporater == 1:\n",
    "    result = number1 + number2\n",
    "    oporater2 = \"+\";\n",
    "elif oporater == 2:\n",
    "    result = number1 - number2;\n",
    "    oporater2 = \"-\"\n",
    "elif oporater == 3:\n",
    "    result = number1 * number2;\n",
    "    oporater2 = \"*\"\n",
    "elif oporater == 4:\n",
    "    if number2 != 0:\n",
    "        result = number1 / number2\n",
    "        oporater2 = \"/\";\n",
    "    else: \n",
    "        while number2 == 0:\n",
    "            print(\"sorry but dividing by zero in inposible noob\")\n",
    "            number2 = float(input(\"Now, please enter your second number\"))\n",
    "            if number2 != 0:\n",
    "                result = number1 / number2\n",
    "                oporater2 = \"/\";\n",
    "else:\n",
    "     print(\"You have selected the wrong oprater\")\n",
    "print(f\"Here is your anser:\\n {number1} {oporater2} {number2} = {result}\")"
   ]
  },
  {
   "cell_type": "code",
   "execution_count": null,
   "metadata": {},
   "outputs": [],
   "source": []
  },
  {
   "cell_type": "code",
   "execution_count": null,
   "metadata": {},
   "outputs": [],
   "source": []
  },
  {
   "cell_type": "code",
   "execution_count": null,
   "metadata": {},
   "outputs": [],
   "source": []
  },
  {
   "cell_type": "code",
   "execution_count": null,
   "metadata": {},
   "outputs": [],
   "source": []
  },
  {
   "cell_type": "code",
   "execution_count": null,
   "metadata": {},
   "outputs": [],
   "source": []
  }
 ],
 "metadata": {
  "kernelspec": {
   "display_name": "Python 3",
   "language": "python",
   "name": "python3"
  },
  "language_info": {
   "codemirror_mode": {
    "name": "ipython",
    "version": 3
   },
   "file_extension": ".py",
   "mimetype": "text/x-python",
   "name": "python",
   "nbconvert_exporter": "python",
   "pygments_lexer": "ipython3",
   "version": "3.9.0"
  }
 },
 "nbformat": 4,
 "nbformat_minor": 4
}
