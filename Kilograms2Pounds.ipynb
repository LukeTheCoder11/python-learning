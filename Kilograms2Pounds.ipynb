{
 "cells": [
  {
   "cell_type": "code",
   "execution_count": 1,
   "metadata": {},
   "outputs": [
    {
     "name": "stdin",
     "output_type": "stream",
     "text": [
      "Weight: 50000000\n",
      "(K)gs (L)bs: l\n"
     ]
    },
    {
     "name": "stdout",
     "output_type": "stream",
     "text": [
      "50000000.0 Lbs =22500000.0 Kgs\n"
     ]
    }
   ],
   "source": [
    "is_unit_KL = False\n",
    "is_float = False\n",
    "while is_float == False:\n",
    "    try:\n",
    "        weight = float(input(\"Weight:\"))\n",
    "        is_float = True\n",
    "    except ValueError:\n",
    "        print(\"HEY PUT IN NUMBERS!\")\n",
    "while is_unit_KL == False:\n",
    "    try:\n",
    "        unit = str(input(\"(K)gs (L)bs:\"))\n",
    "        if unit.upper() == 'K' or unit.upper() == 'L':\n",
    "            is_unit_KL = True\n",
    "        else:\n",
    "            print(\"hey put in K or L\")\n",
    "    except ValueError:\n",
    "        print(\"HEY PUT IN WORDS, Please!\")\n",
    "if unit.upper() == 'K':\n",
    "    converted = weight / 0.45\n",
    "    print(f\"{weight} Kgs =\" + str(converted)+\" Lbs\")\n",
    "else:\n",
    "    converted = weight * 0.45\n",
    "    print(f\"{weight} Lbs =\" + str(converted)+\" Kgs\")"
   ]
  },
  {
   "cell_type": "code",
   "execution_count": null,
   "metadata": {},
   "outputs": [],
   "source": []
  }
 ],
 "metadata": {
  "kernelspec": {
   "display_name": "Python 3",
   "language": "python",
   "name": "python3"
  },
  "language_info": {
   "codemirror_mode": {
    "name": "ipython",
    "version": 3
   },
   "file_extension": ".py",
   "mimetype": "text/x-python",
   "name": "python",
   "nbconvert_exporter": "python",
   "pygments_lexer": "ipython3",
   "version": "3.9.0"
  }
 },
 "nbformat": 4,
 "nbformat_minor": 4
}
