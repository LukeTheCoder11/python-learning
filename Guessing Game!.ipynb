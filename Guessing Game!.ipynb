{
 "cells": [
  {
   "cell_type": "code",
   "execution_count": null,
   "metadata": {},
   "outputs": [],
   "source": [
    "print(\"Welcome to Lukes super cool guesseing game!\")\n",
    "print(\"Da Rules: 1: You have 3 trys, 2: if you win you get nothing finally have fun!\")\n",
    "secret_number = 9\n",
    "guess_count = 0\n",
    "guess_limit =3\n",
    "while guess_count < guess_limit:\n",
    "    guess = int(input('Gusses: '))\n",
    "    guess_count += 1\n",
    "    if guess == secret_number:\n",
    "        print(\"You won a easy game, good job?\")\n",
    "        break\n",
    "else:\n",
    "    print(\"bruh you had 3 guesses to guess the number 9, SUCH A LOOOOSER\")"
   ]
  },
  {
   "cell_type": "code",
   "execution_count": null,
   "metadata": {},
   "outputs": [],
   "source": []
  }
 ],
 "metadata": {
  "kernelspec": {
   "display_name": "Python 3",
   "language": "python",
   "name": "python3"
  },
  "language_info": {
   "codemirror_mode": {
    "name": "ipython",
    "version": 3
   },
   "file_extension": ".py",
   "mimetype": "text/x-python",
   "name": "python",
   "nbconvert_exporter": "python",
   "pygments_lexer": "ipython3",
   "version": "3.9.0"
  }
 },
 "nbformat": 4,
 "nbformat_minor": 4
}
