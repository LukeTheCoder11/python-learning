{
 "cells": [
  {
   "cell_type": "code",
   "execution_count": 20,
   "metadata": {},
   "outputs": [
    {
     "name": "stdin",
     "output_type": "stream",
     "text": [
      "Temperature: 190\n",
      "Celsius or Fahrenheit 1312\n",
      "Celsius or Fahrenheit c\n"
     ]
    },
    {
     "name": "stdout",
     "output_type": "stream",
     "text": [
      "190.0 in Celsius: 87.77777777777779\n"
     ]
    }
   ],
   "source": [
    "is_C_or_F = False\n",
    "is_number = False\n",
    "while is_number == False:\n",
    "    try:\n",
    "        degrees = float(input(\"Temperature:\"))\n",
    "        is_number = True\n",
    "    except ValueError:\n",
    "        print(\"please put in a temperture for example (190).\")\n",
    "while is_C_or_F == False:\n",
    "    try:\n",
    "        unit = input(\"Celsius or Fahrenheit\")\n",
    "        if unit.upper() == 'C' or unit.upper == 'F':\n",
    "            is_C_or_F = True\n",
    "    except ValueError:\n",
    "        print(\"Please pick a corect unit such as (C) or (F)\")\n",
    "if unit.upper() == 'F':\n",
    "    converted = (degrees * 1.8) + 32\n",
    "    print(f\"{degrees} in Fahrenheit: \" + str(converted))\n",
    "else:\n",
    "    converted = (degrees - 32) * (5 / 9)\n",
    "    print(f\"{degrees} in Celsius: \" + str(converted))"
   ]
  },
  {
   "cell_type": "code",
   "execution_count": null,
   "metadata": {},
   "outputs": [],
   "source": []
  }
 ],
 "metadata": {
  "kernelspec": {
   "display_name": "Python 3",
   "language": "python",
   "name": "python3"
  },
  "language_info": {
   "codemirror_mode": {
    "name": "ipython",
    "version": 3
   },
   "file_extension": ".py",
   "mimetype": "text/x-python",
   "name": "python",
   "nbconvert_exporter": "python",
   "pygments_lexer": "ipython3",
   "version": "3.9.0"
  }
 },
 "nbformat": 4,
 "nbformat_minor": 4
}
