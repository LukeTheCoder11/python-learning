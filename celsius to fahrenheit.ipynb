{
 "cells": [
  {
   "cell_type": "code",
   "execution_count": 8,
   "metadata": {},
   "outputs": [
    {
     "name": "stdin",
     "output_type": "stream",
     "text": [
      "Temperature: 74\n",
      "Celsius or Fahrenheit f\n"
     ]
    },
    {
     "name": "stdout",
     "output_type": "stream",
     "text": [
      "Degrees in Fahrenheit165.20000000000002\n"
     ]
    }
   ],
   "source": [
    "degrees = int(input(\"Temperature:\"))\n",
    "unit = input(\"Celsius or Fahrenheit\")\n",
    "if unit.upper() == 'F':\n",
    "    converted = degrees * 1.8 + 32\n",
    "    print(\"Degrees in Fahrenheit\" + str(converted))\n",
    "else:\n",
    "    converted = degrees - 32 * 0.5556\n",
    "    print(\"Degrees in Celsius:\" + str(converted))"
   ]
  },
  {
   "cell_type": "code",
   "execution_count": null,
   "metadata": {},
   "outputs": [],
   "source": []
  }
 ],
 "metadata": {
  "kernelspec": {
   "display_name": "Python 3",
   "language": "python",
   "name": "python3"
  },
  "language_info": {
   "codemirror_mode": {
    "name": "ipython",
    "version": 3
   },
   "file_extension": ".py",
   "mimetype": "text/x-python",
   "name": "python",
   "nbconvert_exporter": "python",
   "pygments_lexer": "ipython3",
   "version": "3.9.0"
  }
 },
 "nbformat": 4,
 "nbformat_minor": 4
}
