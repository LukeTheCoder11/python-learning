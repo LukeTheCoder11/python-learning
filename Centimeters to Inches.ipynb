{
 "cells": [
  {
   "cell_type": "code",
   "execution_count": 9,
   "metadata": {},
   "outputs": [
    {
     "name": "stdin",
     "output_type": "stream",
     "text": [
      "Please put in your measurement: 10\n",
      "(C)entimeters or (I)nches? I\n"
     ]
    },
    {
     "name": "stdout",
     "output_type": "stream",
     "text": [
      "10.0 in inches:  25.4 centimeters\n"
     ]
    }
   ],
   "source": [
    "measurement = float(input(\"Please put in your measurement:\"))\n",
    "unit = input(\"(C)entimeters or (I)nches?\")\n",
    "if unit.upper() == 'I':\n",
    "    converted = measurement * 2.54\n",
    "    print(f\"{measurement} in inches:  \" + str(converted) + \" centimeters\")\n",
    "else:\n",
    "    converted = measurement / 2.54\n",
    "    print(f\"{measurement} in centimeters:  \" + str(converted) + \" inches\")"
   ]
  },
  {
   "cell_type": "code",
   "execution_count": null,
   "metadata": {},
   "outputs": [],
   "source": []
  }
 ],
 "metadata": {
  "kernelspec": {
   "display_name": "Python 3",
   "language": "python",
   "name": "python3"
  },
  "language_info": {
   "codemirror_mode": {
    "name": "ipython",
    "version": 3
   },
   "file_extension": ".py",
   "mimetype": "text/x-python",
   "name": "python",
   "nbconvert_exporter": "python",
   "pygments_lexer": "ipython3",
   "version": "3.9.0"
  }
 },
 "nbformat": 4,
 "nbformat_minor": 4
}
