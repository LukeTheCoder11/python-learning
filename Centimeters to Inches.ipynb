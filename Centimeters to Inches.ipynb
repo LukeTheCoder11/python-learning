{
 "cells": [
  {
   "cell_type": "code",
   "execution_count": 3,
   "metadata": {},
   "outputs": [
    {
     "name": "stdin",
     "output_type": "stream",
     "text": [
      "Please put in your measurement: 20\n",
      "(C)entimeters or (I)nches? i\n"
     ]
    },
    {
     "name": "stdout",
     "output_type": "stream",
     "text": [
      "20.0 in inches:  50.8 centimeters\n"
     ]
    }
   ],
   "source": [
    "is_C_or_I = False\n",
    "is_number = False\n",
    "while is_number == False:\n",
    "    try:\n",
    "        measurement = float(input(\"Please put in your measurement:\"))\n",
    "        is_number = True\n",
    "    except ValueError:\n",
    "        print(\"please put in a measerment for example (20).\")\n",
    "while is_C_or_I == False:\n",
    "    try:\n",
    "        unit = str(input(\"(C)entimeters or (I)nches?\"))\n",
    "        if unit.upper() == 'C' or unit.upper() == 'I':\n",
    "            is_C_or_I = True\n",
    "        else:\n",
    "            print(\"Please pick a corect unit such as (C) or (I)\")\n",
    "    except ValueError:\n",
    "        print(\"HEY PUT IN WORDS, Please!\")\n",
    "if unit.upper() == 'I':\n",
    "    converted = measurement * 2.54\n",
    "    print(f\"{measurement} in inches:  \" + str(converted) + \" centimeters\")\n",
    "else:\n",
    "    converted = measurement / 2.54\n",
    "    print(f\"{measurement} in centimeters:  \" + str(converted) + \" inches\")"
   ]
  },
  {
   "cell_type": "code",
   "execution_count": null,
   "metadata": {},
   "outputs": [],
   "source": []
  }
 ],
 "metadata": {
  "kernelspec": {
   "display_name": "Python 3",
   "language": "python",
   "name": "python3"
  },
  "language_info": {
   "codemirror_mode": {
    "name": "ipython",
    "version": 3
   },
   "file_extension": ".py",
   "mimetype": "text/x-python",
   "name": "python",
   "nbconvert_exporter": "python",
   "pygments_lexer": "ipython3",
   "version": "3.9.0"
  }
 },
 "nbformat": 4,
 "nbformat_minor": 4
}
